{
 "cells": [
  {
   "cell_type": "code",
   "execution_count": 1,
   "metadata": {
    "_cell_guid": "927de83a-be51-4001-bf16-4f25ff8b2de9",
    "_uuid": "6ecfb8bb-6d99-4f5c-bec2-37c7c3714eec",
    "execution": {
     "iopub.execute_input": "2021-08-11T00:00:02.824826Z",
     "iopub.status.busy": "2021-08-11T00:00:02.824287Z",
     "iopub.status.idle": "2021-08-11T00:00:02.845486Z",
     "shell.execute_reply": "2021-08-11T00:00:02.844460Z",
     "shell.execute_reply.started": "2021-08-11T00:00:02.824792Z"
    },
    "jupyter": {
     "outputs_hidden": false
    }
   },
   "outputs": [],
   "source": [
    "#Importing required packages.\n",
    "import pandas as pd\n",
    "import seaborn as sns\n",
    "import matplotlib.pyplot as plt\n",
    "from sklearn.ensemble import RandomForestClassifier\n",
    "from sklearn.svm import SVC\n",
    "from sklearn.linear_model import SGDClassifier\n",
    "from sklearn.metrics import confusion_matrix, classification_report\n",
    "from sklearn.preprocessing import StandardScaler, LabelEncoder\n",
    "from sklearn.linear_model import LogisticRegression\n",
    "from sklearn.svm import LinearSVC, SVC\n",
    "from sklearn.model_selection import train_test_split, GridSearchCV, cross_val_score\n",
    "import numpy as np\n",
    "from sklearn.ensemble import GradientBoostingClassifier\n",
    "from matplotlib import style\n",
    "import seaborn as sns\n",
    "\n",
    "from sklearn.metrics import accuracy_score, precision_score, recall_score, f1_score\n",
    "from sklearn.model_selection import train_test_split, cross_validate\n",
    "from sklearn.svm import LinearSVC, SVC\n",
    "from sklearn.model_selection import GridSearchCV\n",
    "from sklearn.model_selection import KFold\n",
    "from sklearn.neighbors import KNeighborsRegressor\n",
    "from sklearn.svm import SVR\n",
    "from sklearn.naive_bayes import GaussianNB\n",
    "from sklearn.tree import DecisionTreeClassifier\n",
    "from sklearn.neighbors import KNeighborsClassifier\n",
    "from imblearn.over_sampling import SMOTE"
   ]
  },
  {
   "cell_type": "markdown",
   "metadata": {
    "_cell_guid": "c349f3e1-93d3-4e5b-9953-704d33cb72f5",
    "_uuid": "c7b9c31e-3d88-445b-b631-64866cb171c1"
   },
   "source": [
    "![](https://cdn-coiao.nitrocdn.com/CYHudqJZsSxQpAPzLkHFOkuzFKDpEHGF/assets/static/optimized/wp-content/uploads/2021/04/f85283410c7e35104310d6d678ed7890.supervised-learning-data_vs_unsupervised-learning-data.png)"
   ]
  },
  {
   "cell_type": "markdown",
   "metadata": {
    "_cell_guid": "68613852-ae31-47d4-b9ae-a96c3b58d755",
    "_uuid": "fa3d0c38-d58c-414e-b863-35668764a5b5"
   },
   "source": [
    "# **Loading dataset**"
   ]
  },
  {
   "cell_type": "code",
   "execution_count": 2,
   "metadata": {
    "_cell_guid": "9bf370b3-b9dd-47fd-ba28-85e015f7e154",
    "_uuid": "e9863011-6ed3-48c2-a3c3-4ebaf9ae5bbe",
    "execution": {
     "iopub.execute_input": "2021-08-11T00:00:03.287932Z",
     "iopub.status.busy": "2021-08-11T00:00:03.287584Z",
     "iopub.status.idle": "2021-08-11T00:00:03.319759Z",
     "shell.execute_reply": "2021-08-11T00:00:03.318510Z",
     "shell.execute_reply.started": "2021-08-11T00:00:03.287902Z"
    },
    "jupyter": {
     "outputs_hidden": false
    }
   },
   "outputs": [
    {
     "data": {
      "text/html": [
       "<div>\n",
       "<style scoped>\n",
       "    .dataframe tbody tr th:only-of-type {\n",
       "        vertical-align: middle;\n",
       "    }\n",
       "\n",
       "    .dataframe tbody tr th {\n",
       "        vertical-align: top;\n",
       "    }\n",
       "\n",
       "    .dataframe thead th {\n",
       "        text-align: right;\n",
       "    }\n",
       "</style>\n",
       "<table border=\"1\" class=\"dataframe\">\n",
       "  <thead>\n",
       "    <tr style=\"text-align: right;\">\n",
       "      <th></th>\n",
       "      <th>fixed acidity</th>\n",
       "      <th>volatile acidity</th>\n",
       "      <th>citric acid</th>\n",
       "      <th>residual sugar</th>\n",
       "      <th>chlorides</th>\n",
       "      <th>free sulfur dioxide</th>\n",
       "      <th>total sulfur dioxide</th>\n",
       "      <th>density</th>\n",
       "      <th>pH</th>\n",
       "      <th>sulphates</th>\n",
       "      <th>alcohol</th>\n",
       "      <th>quality</th>\n",
       "    </tr>\n",
       "  </thead>\n",
       "  <tbody>\n",
       "    <tr>\n",
       "      <th>0</th>\n",
       "      <td>7.4</td>\n",
       "      <td>0.70</td>\n",
       "      <td>0.00</td>\n",
       "      <td>1.9</td>\n",
       "      <td>0.076</td>\n",
       "      <td>11.0</td>\n",
       "      <td>34.0</td>\n",
       "      <td>0.9978</td>\n",
       "      <td>3.51</td>\n",
       "      <td>0.56</td>\n",
       "      <td>9.4</td>\n",
       "      <td>5</td>\n",
       "    </tr>\n",
       "    <tr>\n",
       "      <th>1</th>\n",
       "      <td>7.8</td>\n",
       "      <td>0.88</td>\n",
       "      <td>0.00</td>\n",
       "      <td>2.6</td>\n",
       "      <td>0.098</td>\n",
       "      <td>25.0</td>\n",
       "      <td>67.0</td>\n",
       "      <td>0.9968</td>\n",
       "      <td>3.20</td>\n",
       "      <td>0.68</td>\n",
       "      <td>9.8</td>\n",
       "      <td>5</td>\n",
       "    </tr>\n",
       "    <tr>\n",
       "      <th>2</th>\n",
       "      <td>7.8</td>\n",
       "      <td>0.76</td>\n",
       "      <td>0.04</td>\n",
       "      <td>2.3</td>\n",
       "      <td>0.092</td>\n",
       "      <td>15.0</td>\n",
       "      <td>54.0</td>\n",
       "      <td>0.9970</td>\n",
       "      <td>3.26</td>\n",
       "      <td>0.65</td>\n",
       "      <td>9.8</td>\n",
       "      <td>5</td>\n",
       "    </tr>\n",
       "    <tr>\n",
       "      <th>3</th>\n",
       "      <td>11.2</td>\n",
       "      <td>0.28</td>\n",
       "      <td>0.56</td>\n",
       "      <td>1.9</td>\n",
       "      <td>0.075</td>\n",
       "      <td>17.0</td>\n",
       "      <td>60.0</td>\n",
       "      <td>0.9980</td>\n",
       "      <td>3.16</td>\n",
       "      <td>0.58</td>\n",
       "      <td>9.8</td>\n",
       "      <td>6</td>\n",
       "    </tr>\n",
       "    <tr>\n",
       "      <th>4</th>\n",
       "      <td>7.4</td>\n",
       "      <td>0.70</td>\n",
       "      <td>0.00</td>\n",
       "      <td>1.9</td>\n",
       "      <td>0.076</td>\n",
       "      <td>11.0</td>\n",
       "      <td>34.0</td>\n",
       "      <td>0.9978</td>\n",
       "      <td>3.51</td>\n",
       "      <td>0.56</td>\n",
       "      <td>9.4</td>\n",
       "      <td>5</td>\n",
       "    </tr>\n",
       "  </tbody>\n",
       "</table>\n",
       "</div>"
      ],
      "text/plain": [
       "   fixed acidity  volatile acidity  citric acid  residual sugar  chlorides  \\\n",
       "0            7.4              0.70         0.00             1.9      0.076   \n",
       "1            7.8              0.88         0.00             2.6      0.098   \n",
       "2            7.8              0.76         0.04             2.3      0.092   \n",
       "3           11.2              0.28         0.56             1.9      0.075   \n",
       "4            7.4              0.70         0.00             1.9      0.076   \n",
       "\n",
       "   free sulfur dioxide  total sulfur dioxide  density    pH  sulphates  \\\n",
       "0                 11.0                  34.0   0.9978  3.51       0.56   \n",
       "1                 25.0                  67.0   0.9968  3.20       0.68   \n",
       "2                 15.0                  54.0   0.9970  3.26       0.65   \n",
       "3                 17.0                  60.0   0.9980  3.16       0.58   \n",
       "4                 11.0                  34.0   0.9978  3.51       0.56   \n",
       "\n",
       "   alcohol  quality  \n",
       "0      9.4        5  \n",
       "1      9.8        5  \n",
       "2      9.8        5  \n",
       "3      9.8        6  \n",
       "4      9.4        5  "
      ]
     },
     "execution_count": 2,
     "metadata": {},
     "output_type": "execute_result"
    }
   ],
   "source": [
    "#Loading dataset\n",
    "df = pd.read_csv('winequality-red.csv')\n",
    "#Let's check how the data is distributed\n",
    "df.head()"
   ]
  },
  {
   "cell_type": "code",
   "execution_count": 3,
   "metadata": {
    "_cell_guid": "e8978a81-a795-4634-b229-ff895a0ca089",
    "_uuid": "4d4a692c-37fa-4f4d-9c25-a5ac736aa688",
    "execution": {
     "iopub.execute_input": "2021-08-11T00:00:03.641724Z",
     "iopub.status.busy": "2021-08-11T00:00:03.641362Z",
     "iopub.status.idle": "2021-08-11T00:00:03.647192Z",
     "shell.execute_reply": "2021-08-11T00:00:03.646234Z",
     "shell.execute_reply.started": "2021-08-11T00:00:03.641695Z"
    },
    "jupyter": {
     "outputs_hidden": false
    }
   },
   "outputs": [
    {
     "data": {
      "text/plain": [
       "(1599, 12)"
      ]
     },
     "execution_count": 3,
     "metadata": {},
     "output_type": "execute_result"
    }
   ],
   "source": [
    "df.shape"
   ]
  },
  {
   "cell_type": "code",
   "execution_count": 4,
   "metadata": {
    "_cell_guid": "0ae9218a-0133-4794-badc-f22c9b0191b1",
    "_uuid": "bb82b434-224f-40fc-90bb-1ddcc29093af",
    "execution": {
     "iopub.execute_input": "2021-08-11T00:00:04.521919Z",
     "iopub.status.busy": "2021-08-11T00:00:04.521555Z",
     "iopub.status.idle": "2021-08-11T00:00:07.338257Z",
     "shell.execute_reply": "2021-08-11T00:00:07.337279Z",
     "shell.execute_reply.started": "2021-08-11T00:00:04.521886Z"
    },
    "jupyter": {
     "outputs_hidden": false
    }
   },
   "outputs": [
    {
     "data": {
      "image/png": "[encoded data removed]",
      "text/plain": [
       "<Figure size 1008x576 with 12 Axes>"
      ]
     },
     "metadata": {
      "needs_background": "light"
     },
     "output_type": "display_data"
    }
   ],
   "source": [
    "df.hist(bins= 40, figsize=(14, 8), grid= False)\n",
    "plt.tight_layout()\n",
    "\n",
    "plt.show()"
   ]
  },
  {
   "cell_type": "code",
   "execution_count": 5,
   "metadata": {
    "execution": {
     "iopub.execute_input": "2021-08-11T00:00:07.340096Z",
     "iopub.status.busy": "2021-08-11T00:00:07.339792Z",
     "iopub.status.idle": "2021-08-11T00:00:08.283746Z",
     "shell.execute_reply": "2021-08-11T00:00:08.282558Z",
     "shell.execute_reply.started": "2021-08-11T00:00:07.340066Z"
    }
   },
   "outputs": [
    {
     "data": {
      "image/png": "[encoded data removed]",
      "text/plain": [
       "<Figure size 720x576 with 6 Axes>"
      ]
     },
     "metadata": {
      "needs_background": "light"
     },
     "output_type": "display_data"
    }
   ],
   "source": [
    "def plotBoxplot(data):\n",
    "    fig, axes = plt.subplots(ncols=3, nrows=2, figsize=(10,8))\n",
    "    fig.tight_layout(pad=2.0)\n",
    "\n",
    "    col = 0\n",
    "    row = 0\n",
    "    colors = ['#bad9e9', '#7ab6d6', '#3c8abd']\n",
    "\n",
    "    for i, column in enumerate(data.columns):\n",
    "        sns.boxplot(y=column, data=data, ax=axes[row][col], color=colors[col])\n",
    "    \n",
    "\n",
    "        if (i + 1) % 3 == 0:\n",
    "            row += 1\n",
    "            col = 0\n",
    "        else:\n",
    "            col += 1\n",
    "            \n",
    "plotBoxplot(df[['chlorides', 'residual sugar', 'free sulfur dioxide','sulphates' , 'alcohol', 'total sulfur dioxide']])"
   ]
  },
  {
   "cell_type": "markdown",
   "metadata": {},
   "source": [
    "![](Box-Plot-and-Whisker-Plot-2.png)\n"
   ]
  },
  {
   "cell_type": "code",
   "execution_count": 6,
   "metadata": {
    "_cell_guid": "fbb20ae3-1b68-4f3a-816d-eed64d9ae04a",
    "_uuid": "28306fa4-0918-45f9-a73e-367ac075426b",
    "execution": {
     "iopub.execute_input": "2021-08-11T00:00:08.286233Z",
     "iopub.status.busy": "2021-08-11T00:00:08.285799Z",
     "iopub.status.idle": "2021-08-11T00:00:08.669009Z",
     "shell.execute_reply": "2021-08-11T00:00:08.668146Z",
     "shell.execute_reply.started": "2021-08-11T00:00:08.286189Z"
    },
    "jupyter": {
     "outputs_hidden": false
    }
   },
   "outputs": [
    {
     "data": {
      "text/html": [
       "<div>\n",
       "<style scoped>\n",
       "    .dataframe tbody tr th:only-of-type {\n",
       "        vertical-align: middle;\n",
       "    }\n",
       "\n",
       "    .dataframe tbody tr th {\n",
       "        vertical-align: top;\n",
       "    }\n",
       "\n",
       "    .dataframe thead th {\n",
       "        text-align: right;\n",
       "    }\n",
       "</style>\n",
       "<table border=\"1\" class=\"dataframe\">\n",
       "  <thead>\n",
       "    <tr style=\"text-align: right;\">\n",
       "      <th></th>\n",
       "      <th>fixed acidity</th>\n",
       "      <th>volatile acidity</th>\n",
       "      <th>citric acid</th>\n",
       "      <th>residual sugar</th>\n",
       "      <th>chlorides</th>\n",
       "      <th>free sulfur dioxide</th>\n",
       "      <th>total sulfur dioxide</th>\n",
       "      <th>density</th>\n",
       "      <th>pH</th>\n",
       "      <th>sulphates</th>\n",
       "      <th>alcohol</th>\n",
       "      <th>quality</th>\n",
       "    </tr>\n",
       "  </thead>\n",
       "  <tbody>\n",
       "    <tr>\n",
       "      <th>count</th>\n",
       "      <td>1599.000000</td>\n",
       "      <td>1599.000000</td>\n",
       "      <td>1599.000000</td>\n",
       "      <td>1599.000000</td>\n",
       "      <td>1599.000000</td>\n",
       "      <td>1599.000000</td>\n",
       "      <td>1599.000000</td>\n",
       "      <td>1599.000000</td>\n",
       "      <td>1599.000000</td>\n",
       "      <td>1599.000000</td>\n",
       "      <td>1599.000000</td>\n",
       "      <td>1599.000000</td>\n",
       "    </tr>\n",
       "    <tr>\n",
       "      <th>mean</th>\n",
       "      <td>8.319637</td>\n",
       "      <td>0.527821</td>\n",
       "      <td>0.270976</td>\n",
       "      <td>2.538806</td>\n",
       "      <td>0.087467</td>\n",
       "      <td>15.874922</td>\n",
       "      <td>46.467792</td>\n",
       "      <td>0.996747</td>\n",
       "      <td>3.311113</td>\n",
       "      <td>0.658149</td>\n",
       "      <td>10.422983</td>\n",
       "      <td>5.636023</td>\n",
       "    </tr>\n",
       "    <tr>\n",
       "      <th>std</th>\n",
       "      <td>1.741096</td>\n",
       "      <td>0.179060</td>\n",
       "      <td>0.194801</td>\n",
       "      <td>1.409928</td>\n",
       "      <td>0.047065</td>\n",
       "      <td>10.460157</td>\n",
       "      <td>32.895324</td>\n",
       "      <td>0.001887</td>\n",
       "      <td>0.154386</td>\n",
       "      <td>0.169507</td>\n",
       "      <td>1.065668</td>\n",
       "      <td>0.807569</td>\n",
       "    </tr>\n",
       "    <tr>\n",
       "      <th>min</th>\n",
       "      <td>4.600000</td>\n",
       "      <td>0.120000</td>\n",
       "      <td>0.000000</td>\n",
       "      <td>0.900000</td>\n",
       "      <td>0.012000</td>\n",
       "      <td>1.000000</td>\n",
       "      <td>6.000000</td>\n",
       "      <td>0.990070</td>\n",
       "      <td>2.740000</td>\n",
       "      <td>0.330000</td>\n",
       "      <td>8.400000</td>\n",
       "      <td>3.000000</td>\n",
       "    </tr>\n",
       "    <tr>\n",
       "      <th>25%</th>\n",
       "      <td>7.100000</td>\n",
       "      <td>0.390000</td>\n",
       "      <td>0.090000</td>\n",
       "      <td>1.900000</td>\n",
       "      <td>0.070000</td>\n",
       "      <td>7.000000</td>\n",
       "      <td>22.000000</td>\n",
       "      <td>0.995600</td>\n",
       "      <td>3.210000</td>\n",
       "      <td>0.550000</td>\n",
       "      <td>9.500000</td>\n",
       "      <td>5.000000</td>\n",
       "    </tr>\n",
       "    <tr>\n",
       "      <th>50%</th>\n",
       "      <td>7.900000</td>\n",
       "      <td>0.520000</td>\n",
       "      <td>0.260000</td>\n",
       "      <td>2.200000</td>\n",
       "      <td>0.079000</td>\n",
       "      <td>14.000000</td>\n",
       "      <td>38.000000</td>\n",
       "      <td>0.996750</td>\n",
       "      <td>3.310000</td>\n",
       "      <td>0.620000</td>\n",
       "      <td>10.200000</td>\n",
       "      <td>6.000000</td>\n",
       "    </tr>\n",
       "    <tr>\n",
       "      <th>75%</th>\n",
       "      <td>9.200000</td>\n",
       "      <td>0.640000</td>\n",
       "      <td>0.420000</td>\n",
       "      <td>2.600000</td>\n",
       "      <td>0.090000</td>\n",
       "      <td>21.000000</td>\n",
       "      <td>62.000000</td>\n",
       "      <td>0.997835</td>\n",
       "      <td>3.400000</td>\n",
       "      <td>0.730000</td>\n",
       "      <td>11.100000</td>\n",
       "      <td>6.000000</td>\n",
       "    </tr>\n",
       "    <tr>\n",
       "      <th>max</th>\n",
       "      <td>15.900000</td>\n",
       "      <td>1.580000</td>\n",
       "      <td>1.000000</td>\n",
       "      <td>15.500000</td>\n",
       "      <td>0.611000</td>\n",
       "      <td>72.000000</td>\n",
       "      <td>289.000000</td>\n",
       "      <td>1.003690</td>\n",
       "      <td>4.010000</td>\n",
       "      <td>2.000000</td>\n",
       "      <td>14.900000</td>\n",
       "      <td>8.000000</td>\n",
       "    </tr>\n",
       "  </tbody>\n",
       "</table>\n",
       "</div>"
      ],
      "text/plain": [
       "       fixed acidity  volatile acidity  citric acid  residual sugar  \\\n",
       "count    1599.000000       1599.000000  1599.000000     1599.000000   \n",
       "mean        8.319637          0.527821     0.270976        2.538806   \n",
       "std         1.741096          0.179060     0.194801        1.409928   \n",
       "min         4.600000          0.120000     0.000000        0.900000   \n",
       "25%         7.100000          0.390000     0.090000        1.900000   \n",
       "50%         7.900000          0.520000     0.260000        2.200000   \n",
       "75%         9.200000          0.640000     0.420000        2.600000   \n",
       "max        15.900000          1.580000     1.000000       15.500000   \n",
       "\n",
       "         chlorides  free sulfur dioxide  total sulfur dioxide      density  \\\n",
       "count  1599.000000          1599.000000           1599.000000  1599.000000   \n",
       "mean      0.087467            15.874922             46.467792     0.996747   \n",
       "std       0.047065            10.460157             32.895324     0.001887   \n",
       "min       0.012000             1.000000              6.000000     0.990070   \n",
       "25%       0.070000             7.000000             22.000000     0.995600   \n",
       "50%       0.079000            14.000000             38.000000     0.996750   \n",
       "75%       0.090000            21.000000             62.000000     0.997835   \n",
       "max       0.611000            72.000000            289.000000     1.003690   \n",
       "\n",
       "                pH    sulphates      alcohol      quality  \n",
       "count  1599.000000  1599.000000  1599.000000  1599.000000  \n",
       "mean      3.311113     0.658149    10.422983     5.636023  \n",
       "std       0.154386     0.169507     1.065668     0.807569  \n",
       "min       2.740000     0.330000     8.400000     3.000000  \n",
       "25%       3.210000     0.550000     9.500000     5.000000  \n",
       "50%       3.310000     0.620000    10.200000     6.000000  \n",
       "75%       3.400000     0.730000    11.100000     6.000000  \n",
       "max       4.010000     2.000000    14.900000     8.000000  "
      ]
     },
     "execution_count": 6,
     "metadata": {},
     "output_type": "execute_result"
    }
   ],
   "source": [
    "#statistical properties of the data\n",
    "df.describe()"
   ]
  },
  {
   "cell_type": "code",
   "execution_count": 7,
   "metadata": {
    "_cell_guid": "85227c92-42e7-4ecf-947b-12bbe4cc6532",
    "_uuid": "184201ad-d8dc-4002-a9fe-2ff9e1f4a1a3",
    "execution": {
     "iopub.execute_input": "2021-08-11T00:00:08.672798Z",
     "iopub.status.busy": "2021-08-11T00:00:08.672419Z",
     "iopub.status.idle": "2021-08-11T00:00:08.834391Z",
     "shell.execute_reply": "2021-08-11T00:00:08.833466Z",
     "shell.execute_reply.started": "2021-08-11T00:00:08.672766Z"
    },
    "jupyter": {
     "outputs_hidden": false
    }
   },
   "outputs": [
    {
     "data": {
      "image/png": "[encoded data removed]",
      "text/plain": [
       "<Figure size 432x288 with 1 Axes>"
      ]
     },
     "metadata": {
      "needs_background": "light"
     },
     "output_type": "display_data"
    }
   ],
   "source": [
    "df['quality'].value_counts(sort = False).plot(kind='bar', title = 'Target Variable - Quality',  rot=0)\n",
    "plt.show()"
   ]
  },
  {
   "cell_type": "markdown",
   "metadata": {},
   "source": [
    "**Correlation**\n",
    "\n",
    "Correlation is an important statistic method that tells us how two sets of values are related to each other. A positive correlation indicates that the values tend to increase with one another and a negative correlation indicates that values in one set tend to decrease with an increase in the other set. "
   ]
  },
  {
   "cell_type": "code",
   "execution_count": 8,
   "metadata": {
    "_cell_guid": "afee6c35-b76d-43df-bd69-c533ee572475",
    "_uuid": "157aa683-61b8-4297-a2a2-da4778733a97",
    "execution": {
     "iopub.execute_input": "2021-08-10T23:29:48.026179Z",
     "iopub.status.busy": "2021-08-10T23:29:48.025873Z",
     "iopub.status.idle": "2021-08-10T23:29:49.546787Z",
     "shell.execute_reply": "2021-08-10T23:29:49.543420Z",
     "shell.execute_reply.started": "2021-08-10T23:29:48.026153Z"
    },
    "jupyter": {
     "outputs_hidden": false
    }
   },
   "outputs": [
    {
     "data": {
      "text/plain": [
       "<AxesSubplot:>"
      ]
     },
     "execution_count": 8,
     "metadata": {},
     "output_type": "execute_result"
    },
    {
     "data": {
      "image/png": "[encoded data removed]",
      "text/plain": [
       "<Figure size 720x576 with 2 Axes>"
      ]
     },
     "metadata": {
      "needs_background": "light"
     },
     "output_type": "display_data"
    }
   ],
   "source": [
    "plt.figure(figsize=(10,8))\n",
    "sns.heatmap(df.corr(), annot=True, cmap = 'coolwarm',linewidth=1.5,linecolor='Black')"
   ]
  },
  {
   "cell_type": "markdown",
   "metadata": {
    "_cell_guid": "cc35fc4c-f60c-4664-80ab-074fdf6699f8",
    "_uuid": "1fd6adb1-bfff-487c-94df-d83fd24acd5b"
   },
   "source": [
    "# **Data Pre-processing**\n",
    "\n",
    "1. Removing Duplicates\n",
    "2. Missing values\n",
    "3. Target Value Simplification"
   ]
  },
  {
   "cell_type": "code",
   "execution_count": 9,
   "metadata": {
    "_cell_guid": "0346eed6-480d-4195-8af0-71ee263670ce",
    "_uuid": "bb1f6211-5112-48d1-83f1-d3e812390c96",
    "execution": {
     "iopub.execute_input": "2021-08-10T23:29:49.807359Z",
     "iopub.status.busy": "2021-08-10T23:29:49.807096Z",
     "iopub.status.idle": "2021-08-10T23:29:49.840595Z",
     "shell.execute_reply": "2021-08-10T23:29:49.839618Z",
     "shell.execute_reply.started": "2021-08-10T23:29:49.807334Z"
    },
    "jupyter": {
     "outputs_hidden": false
    }
   },
   "outputs": [
    {
     "name": "stdout",
     "output_type": "stream",
     "text": [
      "Number of Duplicate rows 460\n"
     ]
    },
    {
     "data": {
      "text/html": [
       "<div>\n",
       "<style scoped>\n",
       "    .dataframe tbody tr th:only-of-type {\n",
       "        vertical-align: middle;\n",
       "    }\n",
       "\n",
       "    .dataframe tbody tr th {\n",
       "        vertical-align: top;\n",
       "    }\n",
       "\n",
       "    .dataframe thead th {\n",
       "        text-align: right;\n",
       "    }\n",
       "</style>\n",
       "<table border=\"1\" class=\"dataframe\">\n",
       "  <thead>\n",
       "    <tr style=\"text-align: right;\">\n",
       "      <th></th>\n",
       "      <th>fixed acidity</th>\n",
       "      <th>volatile acidity</th>\n",
       "      <th>citric acid</th>\n",
       "      <th>residual sugar</th>\n",
       "      <th>chlorides</th>\n",
       "      <th>free sulfur dioxide</th>\n",
       "      <th>total sulfur dioxide</th>\n",
       "      <th>density</th>\n",
       "      <th>pH</th>\n",
       "      <th>sulphates</th>\n",
       "      <th>alcohol</th>\n",
       "      <th>quality</th>\n",
       "    </tr>\n",
       "  </thead>\n",
       "  <tbody>\n",
       "    <tr>\n",
       "      <th>0</th>\n",
       "      <td>7.4</td>\n",
       "      <td>0.70</td>\n",
       "      <td>0.00</td>\n",
       "      <td>1.9</td>\n",
       "      <td>0.076</td>\n",
       "      <td>11.0</td>\n",
       "      <td>34.0</td>\n",
       "      <td>0.9978</td>\n",
       "      <td>3.51</td>\n",
       "      <td>0.56</td>\n",
       "      <td>9.4</td>\n",
       "      <td>5</td>\n",
       "    </tr>\n",
       "    <tr>\n",
       "      <th>4</th>\n",
       "      <td>7.4</td>\n",
       "      <td>0.70</td>\n",
       "      <td>0.00</td>\n",
       "      <td>1.9</td>\n",
       "      <td>0.076</td>\n",
       "      <td>11.0</td>\n",
       "      <td>34.0</td>\n",
       "      <td>0.9978</td>\n",
       "      <td>3.51</td>\n",
       "      <td>0.56</td>\n",
       "      <td>9.4</td>\n",
       "      <td>5</td>\n",
       "    </tr>\n",
       "    <tr>\n",
       "      <th>9</th>\n",
       "      <td>7.5</td>\n",
       "      <td>0.50</td>\n",
       "      <td>0.36</td>\n",
       "      <td>6.1</td>\n",
       "      <td>0.071</td>\n",
       "      <td>17.0</td>\n",
       "      <td>102.0</td>\n",
       "      <td>0.9978</td>\n",
       "      <td>3.35</td>\n",
       "      <td>0.80</td>\n",
       "      <td>10.5</td>\n",
       "      <td>5</td>\n",
       "    </tr>\n",
       "    <tr>\n",
       "      <th>11</th>\n",
       "      <td>7.5</td>\n",
       "      <td>0.50</td>\n",
       "      <td>0.36</td>\n",
       "      <td>6.1</td>\n",
       "      <td>0.071</td>\n",
       "      <td>17.0</td>\n",
       "      <td>102.0</td>\n",
       "      <td>0.9978</td>\n",
       "      <td>3.35</td>\n",
       "      <td>0.80</td>\n",
       "      <td>10.5</td>\n",
       "      <td>5</td>\n",
       "    </tr>\n",
       "    <tr>\n",
       "      <th>22</th>\n",
       "      <td>7.9</td>\n",
       "      <td>0.43</td>\n",
       "      <td>0.21</td>\n",
       "      <td>1.6</td>\n",
       "      <td>0.106</td>\n",
       "      <td>10.0</td>\n",
       "      <td>37.0</td>\n",
       "      <td>0.9966</td>\n",
       "      <td>3.17</td>\n",
       "      <td>0.91</td>\n",
       "      <td>9.5</td>\n",
       "      <td>5</td>\n",
       "    </tr>\n",
       "    <tr>\n",
       "      <th>27</th>\n",
       "      <td>7.9</td>\n",
       "      <td>0.43</td>\n",
       "      <td>0.21</td>\n",
       "      <td>1.6</td>\n",
       "      <td>0.106</td>\n",
       "      <td>10.0</td>\n",
       "      <td>37.0</td>\n",
       "      <td>0.9966</td>\n",
       "      <td>3.17</td>\n",
       "      <td>0.91</td>\n",
       "      <td>9.5</td>\n",
       "      <td>5</td>\n",
       "    </tr>\n",
       "  </tbody>\n",
       "</table>\n",
       "</div>"
      ],
      "text/plain": [
       "    fixed acidity  volatile acidity  citric acid  residual sugar  chlorides  \\\n",
       "0             7.4              0.70         0.00             1.9      0.076   \n",
       "4             7.4              0.70         0.00             1.9      0.076   \n",
       "9             7.5              0.50         0.36             6.1      0.071   \n",
       "11            7.5              0.50         0.36             6.1      0.071   \n",
       "22            7.9              0.43         0.21             1.6      0.106   \n",
       "27            7.9              0.43         0.21             1.6      0.106   \n",
       "\n",
       "    free sulfur dioxide  total sulfur dioxide  density    pH  sulphates  \\\n",
       "0                  11.0                  34.0   0.9978  3.51       0.56   \n",
       "4                  11.0                  34.0   0.9978  3.51       0.56   \n",
       "9                  17.0                 102.0   0.9978  3.35       0.80   \n",
       "11                 17.0                 102.0   0.9978  3.35       0.80   \n",
       "22                 10.0                  37.0   0.9966  3.17       0.91   \n",
       "27                 10.0                  37.0   0.9966  3.17       0.91   \n",
       "\n",
       "    alcohol  quality  \n",
       "0       9.4        5  \n",
       "4       9.4        5  \n",
       "9      10.5        5  \n",
       "11     10.5        5  \n",
       "22      9.5        5  \n",
       "27      9.5        5  "
      ]
     },
     "execution_count": 9,
     "metadata": {},
     "output_type": "execute_result"
    }
   ],
   "source": [
    "#checking for duplicates\n",
    "\n",
    "print('Number of Duplicate rows', df[df.duplicated(keep=False)].shape[0])\n",
    "df[df.duplicated(keep=False)].head(6)"
   ]
  },
  {
   "cell_type": "code",
   "execution_count": 10,
   "metadata": {
    "_cell_guid": "bee20167-5d6b-4095-a42f-339dce36ae48",
    "_uuid": "3c8e8a8a-8229-4544-9b29-550a69977fbe",
    "execution": {
     "iopub.execute_input": "2021-08-10T23:29:50.718754Z",
     "iopub.status.busy": "2021-08-10T23:29:50.718349Z",
     "iopub.status.idle": "2021-08-10T23:29:50.726927Z",
     "shell.execute_reply": "2021-08-10T23:29:50.726020Z",
     "shell.execute_reply.started": "2021-08-10T23:29:50.718718Z"
    },
    "jupyter": {
     "outputs_hidden": false
    }
   },
   "outputs": [],
   "source": [
    "##Remove Dulpicates\n",
    "df.drop_duplicates(inplace=True)\n",
    "df.reset_index(drop= True, inplace= True)"
   ]
  },
  {
   "cell_type": "code",
   "execution_count": 11,
   "metadata": {
    "_cell_guid": "80921498-d1d8-4f59-a0a7-0dab13e7030a",
    "_uuid": "ba7e8475-f4c2-4e40-80be-0abd59f25907",
    "execution": {
     "iopub.execute_input": "2021-08-10T23:29:52.000236Z",
     "iopub.status.busy": "2021-08-10T23:29:51.999847Z",
     "iopub.status.idle": "2021-08-10T23:29:52.010235Z",
     "shell.execute_reply": "2021-08-10T23:29:52.009481Z",
     "shell.execute_reply.started": "2021-08-10T23:29:52.000200Z"
    },
    "jupyter": {
     "outputs_hidden": false
    }
   },
   "outputs": [
    {
     "data": {
      "text/plain": [
       "fixed acidity           0\n",
       "volatile acidity        0\n",
       "citric acid             0\n",
       "residual sugar          0\n",
       "chlorides               0\n",
       "free sulfur dioxide     0\n",
       "total sulfur dioxide    0\n",
       "density                 0\n",
       "pH                      0\n",
       "sulphates               0\n",
       "alcohol                 0\n",
       "quality                 0\n",
       "dtype: int64"
      ]
     },
     "execution_count": 11,
     "metadata": {},
     "output_type": "execute_result"
    }
   ],
   "source": [
    "##Missing values\n",
    "df.isna().sum()"
   ]
  },
  {
   "cell_type": "code",
   "execution_count": 12,
   "metadata": {
    "_cell_guid": "8918b991-d147-4336-a03e-3522e77ec4ef",
    "_uuid": "cff5c13e-9696-4f00-9055-8b37cb637fe6",
    "execution": {
     "iopub.execute_input": "2021-08-10T23:29:52.550770Z",
     "iopub.status.busy": "2021-08-10T23:29:52.550373Z",
     "iopub.status.idle": "2021-08-10T23:29:52.558653Z",
     "shell.execute_reply": "2021-08-10T23:29:52.557888Z",
     "shell.execute_reply.started": "2021-08-10T23:29:52.550736Z"
    },
    "jupyter": {
     "outputs_hidden": false
    }
   },
   "outputs": [],
   "source": [
    "#Target Value Simplification\n",
    "# dividing the target variable (quality) into 3 class.\n",
    "\n",
    "# class1: bad (qulaity 3,4), Class2: Avergae (qulaity 5,6,7), Class3: Good (qulaity 8)\n",
    "reviews = []\n",
    "for i in df['quality']:\n",
    "    if i >= 3 and i <= 4:\n",
    "        reviews.append('1')\n",
    "    elif i >= 5 and i <= 6:\n",
    "        reviews.append('2')\n",
    "    elif i > 6:\n",
    "        reviews.append('3')\n",
    "df['Reviews'] = reviews"
   ]
  },
  {
   "cell_type": "code",
   "execution_count": 13,
   "metadata": {
    "_cell_guid": "4cdd7f50-4e39-47b6-9ea9-2cfb693ae0bd",
    "_uuid": "b4310251-475d-4e50-a75f-e994108a6d34",
    "execution": {
     "iopub.execute_input": "2021-08-10T23:29:53.023578Z",
     "iopub.status.busy": "2021-08-10T23:29:53.023207Z",
     "iopub.status.idle": "2021-08-10T23:29:53.291567Z",
     "shell.execute_reply": "2021-08-10T23:29:53.290429Z",
     "shell.execute_reply.started": "2021-08-10T23:29:53.023546Z"
    },
    "jupyter": {
     "outputs_hidden": false
    }
   },
   "outputs": [
    {
     "data": {
      "image/png": "[encoded data removed]",
      "text/plain": [
       "<Figure size 576x288 with 2 Axes>"
      ]
     },
     "metadata": {
      "needs_background": "light"
     },
     "output_type": "display_data"
    }
   ],
   "source": [
    "fig, axes = plt.subplots(nrows=1, ncols=2)\n",
    "\n",
    "df['quality'].value_counts(sort = False).plot(kind='bar', title = 'Quality',  rot=0, ax=axes[0], figsize=(8, 4))\n",
    "df['Reviews'].value_counts(sort = False).plot(kind='bar', title = 'Reviews',  rot=0, ax=axes[1])\n",
    "\n",
    "plt.show()\n",
    "\n",
    "#  Class1: bad (qulaity 3,4), \n",
    "#  Class2: Avergae (qulaity 5,6)\n",
    "#  Class3: Good (qulaity 7,8)"
   ]
  },
  {
   "cell_type": "markdown",
   "metadata": {
    "_cell_guid": "370a6f2b-7130-40af-93f9-81a041ecf090",
    "_uuid": "1d3236b2-9141-44ae-825b-3eb5d2820610"
   },
   "source": [
    "# **Feature Enginering**\n",
    "1. Normalisation\n",
    "2. Train-test split \n",
    "3. Balncing the data"
   ]
  },
  {
   "cell_type": "code",
   "execution_count": 14,
   "metadata": {
    "_cell_guid": "0fbbb7a0-22d1-49a9-baf1-231010499888",
    "_uuid": "49b00fc6-4db2-4beb-9f52-9b2edf45a7c8",
    "execution": {
     "iopub.execute_input": "2021-08-10T23:29:54.655171Z",
     "iopub.status.busy": "2021-08-10T23:29:54.654800Z",
     "iopub.status.idle": "2021-08-10T23:29:54.660863Z",
     "shell.execute_reply": "2021-08-10T23:29:54.659777Z",
     "shell.execute_reply.started": "2021-08-10T23:29:54.655140Z"
    },
    "jupyter": {
     "outputs_hidden": false
    }
   },
   "outputs": [],
   "source": [
    "df.drop('quality', axis= 1, inplace=True)"
   ]
  },
  {
   "cell_type": "code",
   "execution_count": 15,
   "metadata": {
    "_cell_guid": "be259aae-9904-4cda-8d22-1181a550f006",
    "_uuid": "9eea82f9-f836-493b-9c0e-b12c3bd28ba6",
    "execution": {
     "iopub.execute_input": "2021-08-10T23:29:55.294935Z",
     "iopub.status.busy": "2021-08-10T23:29:55.294558Z",
     "iopub.status.idle": "2021-08-10T23:29:55.302125Z",
     "shell.execute_reply": "2021-08-10T23:29:55.301422Z",
     "shell.execute_reply.started": "2021-08-10T23:29:55.294900Z"
    },
    "jupyter": {
     "outputs_hidden": false
    }
   },
   "outputs": [
    {
     "data": {
      "text/plain": [
       "((1359, 11), (1359,))"
      ]
     },
     "execution_count": 15,
     "metadata": {},
     "output_type": "execute_result"
    }
   ],
   "source": [
    "import numpy as np\n",
    "\n",
    "X= df.iloc[:,:-1]  #input varibales \n",
    "y= df.iloc[:,-1]   #output variable\n",
    "\n",
    "X.shape, y.shape"
   ]
  },
  {
   "cell_type": "markdown",
   "metadata": {},
   "source": [
    "**Normalization**\n",
    "\n",
    "Normalization is to change the values of numeric features in the dataset to use a common scale, without distorting differences in the ranges of values or losing information"
   ]
  },
  {
   "cell_type": "code",
   "execution_count": 16,
   "metadata": {
    "_cell_guid": "bc405f44-9b23-484e-9f33-483b91401f3f",
    "_uuid": "f9013a22-a129-466d-93dd-5714fdceb912",
    "execution": {
     "iopub.execute_input": "2021-08-10T23:29:55.968470Z",
     "iopub.status.busy": "2021-08-10T23:29:55.968096Z",
     "iopub.status.idle": "2021-08-10T23:29:55.979988Z",
     "shell.execute_reply": "2021-08-10T23:29:55.978816Z",
     "shell.execute_reply.started": "2021-08-10T23:29:55.968426Z"
    },
    "jupyter": {
     "outputs_hidden": false
    }
   },
   "outputs": [],
   "source": [
    "#Normlisation\n",
    "\n",
    "from sklearn.preprocessing import StandardScaler\n",
    "sc = StandardScaler()\n",
    "X_new = sc.fit_transform(X)"
   ]
  },
  {
   "cell_type": "code",
   "execution_count": 86,
   "metadata": {
    "_cell_guid": "bc34745f-1b93-4bb0-a720-2ebb576c2b8f",
    "_uuid": "c754e96e-3092-441d-ae2d-0593391b4bec",
    "execution": {
     "iopub.execute_input": "2021-08-10T23:29:56.607140Z",
     "iopub.status.busy": "2021-08-10T23:29:56.606779Z",
     "iopub.status.idle": "2021-08-10T23:29:57.117428Z",
     "shell.execute_reply": "2021-08-10T23:29:57.116497Z",
     "shell.execute_reply.started": "2021-08-10T23:29:56.607112Z"
    },
    "jupyter": {
     "outputs_hidden": false
    }
   },
   "outputs": [
    {
     "data": {
      "text/plain": [
       "[]"
      ]
     },
     "execution_count": 86,
     "metadata": {},
     "output_type": "execute_result"
    },
    {
     "data": {
      "image/png": "[encoded data removed]",
      "text/plain": [
       "<Figure size 864x360 with 2 Axes>"
      ]
     },
     "metadata": {
      "needs_background": "light"
     },
     "output_type": "display_data"
    }
   ],
   "source": [
    "fig, (ax1, ax2) = plt.subplots(1, 2, figsize=(12,5))\n",
    "fig.suptitle('Before and after Normlisation ')\n",
    "ax1.plot(X, )\n",
    "ax2.plot(X_new)\n",
    "plt.plot()"
   ]
  },
  {
   "cell_type": "markdown",
   "metadata": {},
   "source": [
    "**Train-test split**\n",
    "\n",
    "Trainig 80 % , Testing 20 %"
   ]
  },
  {
   "cell_type": "markdown",
   "metadata": {
    "_cell_guid": "c0ad4a30-7878-41fd-9533-e93baa11b31c",
    "_uuid": "245fb78f-bf05-4a00-a41b-7c889951ee1d"
   },
   "source": [
    "![](https://www.researchgate.net/profile/Brian-Mwandau/publication/325870973/figure/fig6/AS:639531594285060@1529487622235/Train-Test-Data-Split.png)"
   ]
  },
  {
   "cell_type": "code",
   "execution_count": 65,
   "metadata": {
    "_cell_guid": "1490858c-696f-4075-a738-ce549fb5ccef",
    "_uuid": "7f6d855a-ea83-403e-a774-ce7c918193c0",
    "execution": {
     "iopub.execute_input": "2021-08-10T23:29:57.928742Z",
     "iopub.status.busy": "2021-08-10T23:29:57.927251Z",
     "iopub.status.idle": "2021-08-10T23:29:57.935823Z",
     "shell.execute_reply": "2021-08-10T23:29:57.934868Z",
     "shell.execute_reply.started": "2021-08-10T23:29:57.928686Z"
    },
    "jupyter": {
     "outputs_hidden": false
    }
   },
   "outputs": [],
   "source": [
    "#data spliting\n",
    "X_train, X_test, y_train, y_test = train_test_split(X, y, test_size=0.20, random_state=55, )"
   ]
  },
  {
   "cell_type": "code",
   "execution_count": 66,
   "metadata": {
    "_cell_guid": "196bd0bd-4f65-4d52-995e-858bebd5b12c",
    "_uuid": "538c10f2-92b3-4d04-a972-805677f072aa",
    "execution": {
     "iopub.execute_input": "2021-08-10T23:29:58.616722Z",
     "iopub.status.busy": "2021-08-10T23:29:58.615967Z",
     "iopub.status.idle": "2021-08-10T23:29:58.623916Z",
     "shell.execute_reply": "2021-08-10T23:29:58.622932Z",
     "shell.execute_reply.started": "2021-08-10T23:29:58.616671Z"
    },
    "jupyter": {
     "outputs_hidden": false
    }
   },
   "outputs": [
    {
     "data": {
      "text/plain": [
       "((1087, 11), (272, 11))"
      ]
     },
     "execution_count": 66,
     "metadata": {},
     "output_type": "execute_result"
    }
   ],
   "source": [
    "X_train.shape, X_test.shape"
   ]
  },
  {
   "cell_type": "markdown",
   "metadata": {
    "_cell_guid": "b75f309f-251d-46ae-b9a6-05378077b5e7",
    "_uuid": "c4fdeebe-d825-4e1e-8a4a-7d8553c1761b"
   },
   "source": [
    "**Synthetic Minority Oversampling Technique** is an oversampling technique  \n",
    "\n",
    "SMOTE works by utilizing a **k-nearest neighbor** algorithm to create synthetic data. SMOTE first start by choosing random data from the minority class, then k-nearest neighbors from the data are set. Synthetic data would then made between the random data and the randomly selected k-nearest neighbor. Let me show you the example below.\n",
    "\n",
    "![](https://encrypted-tbn0.gstatic.com/images?q=tbn:ANd9GcR8mNYVxG5cs9ejhYWudfVbJt70ag70dThK4g&usqp=CAU)"
   ]
  },
  {
   "cell_type": "code",
   "execution_count": 67,
   "metadata": {
    "_cell_guid": "d38833d3-1f0b-4c70-a6f3-fe958e9c9823",
    "_uuid": "99eff1d5-7a19-42b5-bd10-377e894b5aba",
    "execution": {
     "iopub.execute_input": "2021-08-10T23:30:00.738175Z",
     "iopub.status.busy": "2021-08-10T23:30:00.737653Z",
     "iopub.status.idle": "2021-08-10T23:30:00.744555Z",
     "shell.execute_reply": "2021-08-10T23:30:00.743564Z",
     "shell.execute_reply.started": "2021-08-10T23:30:00.738139Z"
    },
    "jupyter": {
     "outputs_hidden": false
    }
   },
   "outputs": [
    {
     "name": "stdout",
     "output_type": "stream",
     "text": [
      "Before over sampling : Counter({'2': 895, '3': 138, '1': 54})\n"
     ]
    }
   ],
   "source": [
    "import collections\n",
    "print(\"Before over sampling :\", collections.Counter(y_train))\n",
    "#  Class1: bad \n",
    "#  Class2: Avergae\n",
    "#  Class3: Good "
   ]
  },
  {
   "cell_type": "code",
   "execution_count": 68,
   "metadata": {
    "_cell_guid": "558cdf68-8a15-4f29-bbf6-29ccec242a18",
    "_uuid": "ca0c3abb-ed19-4139-9fdd-d9f83dc6ec70",
    "execution": {
     "iopub.execute_input": "2021-08-11T00:09:47.207519Z",
     "iopub.status.busy": "2021-08-11T00:09:47.207106Z",
     "iopub.status.idle": "2021-08-11T00:09:47.228623Z",
     "shell.execute_reply": "2021-08-11T00:09:47.227775Z",
     "shell.execute_reply.started": "2021-08-11T00:09:47.207481Z"
    },
    "jupyter": {
     "outputs_hidden": false
    }
   },
   "outputs": [],
   "source": [
    "sm = SMOTE(sampling_strategy='auto',\n",
    "    random_state=5,\n",
    "    k_neighbors=5,\n",
    "    n_jobs=None,)\n",
    "\n",
    "X_train, y_train = sm.fit_resample(X_train, y_train)"
   ]
  },
  {
   "cell_type": "code",
   "execution_count": 69,
   "metadata": {
    "_cell_guid": "2cb59ef8-00cd-4eb9-8a2c-acea89630d46",
    "_uuid": "0b5e2ad4-b8fa-4b0a-a244-2b733e83b603",
    "execution": {
     "iopub.execute_input": "2021-08-11T00:09:47.693799Z",
     "iopub.status.busy": "2021-08-11T00:09:47.693462Z",
     "iopub.status.idle": "2021-08-11T00:09:47.699639Z",
     "shell.execute_reply": "2021-08-11T00:09:47.698590Z",
     "shell.execute_reply.started": "2021-08-11T00:09:47.693771Z"
    },
    "jupyter": {
     "outputs_hidden": false
    }
   },
   "outputs": [
    {
     "name": "stdout",
     "output_type": "stream",
     "text": [
      "change is value of count after using smote: Counter({'2': 895, '3': 895, '1': 895})\n"
     ]
    }
   ],
   "source": [
    "print(\"change is value of count after using smote:\", collections.Counter(y_train))"
   ]
  },
  {
   "cell_type": "markdown",
   "metadata": {
    "_cell_guid": "d2883bec-43f9-4a31-86e1-189a4368b822",
    "_uuid": "97536519-6868-483d-a4cf-f79eeb84498e"
   },
   "source": [
    "# **Model**"
   ]
  },
  {
   "cell_type": "code",
   "execution_count": 70,
   "metadata": {
    "_cell_guid": "311c64b7-142b-4c97-9d2d-6badecb009b4",
    "_uuid": "47fc94f2-43f2-4877-81ea-ec5ac25d93ee",
    "execution": {
     "iopub.execute_input": "2021-08-11T00:10:08.490833Z",
     "iopub.status.busy": "2021-08-11T00:10:08.490325Z",
     "iopub.status.idle": "2021-08-11T00:10:13.095151Z",
     "shell.execute_reply": "2021-08-11T00:10:13.093904Z",
     "shell.execute_reply.started": "2021-08-11T00:10:08.490800Z"
    },
    "jupyter": {
     "outputs_hidden": false
    }
   },
   "outputs": [
    {
     "name": "stderr",
     "output_type": "stream",
     "text": [
      "C:\\Users\\ZX7U\\Anaconda3\\lib\\site-packages\\sklearn\\svm\\_base.py:976: ConvergenceWarning: Liblinear failed to converge, increase the number of iterations.\n",
      "  warnings.warn(\"Liblinear failed to converge, increase \"\n"
     ]
    }
   ],
   "source": [
    "models = [LinearSVC(),  KNeighborsClassifier(), RandomForestClassifier(),\n",
    "          DecisionTreeClassifier(), GradientBoostingClassifier(), GaussianNB()]\n",
    "\n",
    "model_names = ['LinearSVM', 'KNearestNeighbors', 'RandomForestClassifier', 'DecisionTree',\n",
    "               'GradientBoostingClassifier', 'GaussianNB']\n",
    "\n",
    "acc = []\n",
    "\n",
    "for model in range(len(models)):\n",
    "    clf = models[model]\n",
    "    clf.fit(X_train, y_train)\n",
    "    \n",
    "    pred = clf.predict(X_test)\n",
    "    acc.append(accuracy_score(pred, y_test))\n",
    "\n",
    "models = {'Modelling Algorithm': model_names, 'Accuracy': acc}"
   ]
  },
  {
   "cell_type": "code",
   "execution_count": 71,
   "metadata": {
    "_cell_guid": "47258fba-7aee-4193-ae1b-b7aca9d4ff53",
    "_uuid": "eb5e2d3a-248c-4d54-937b-408d946c8af9",
    "execution": {
     "iopub.execute_input": "2021-08-11T00:10:13.097163Z",
     "iopub.status.busy": "2021-08-11T00:10:13.096862Z",
     "iopub.status.idle": "2021-08-11T00:10:13.102260Z",
     "shell.execute_reply": "2021-08-11T00:10:13.101210Z",
     "shell.execute_reply.started": "2021-08-11T00:10:13.097135Z"
    },
    "jupyter": {
     "outputs_hidden": false
    }
   },
   "outputs": [],
   "source": [
    "models_df = pd.DataFrame(models)"
   ]
  },
  {
   "cell_type": "code",
   "execution_count": 72,
   "metadata": {
    "_cell_guid": "6fa4608a-ce73-4049-89ab-9a244e457c5b",
    "_uuid": "dd3829a3-2eff-4008-b787-179096347e7a",
    "execution": {
     "iopub.execute_input": "2021-08-11T00:10:13.104942Z",
     "iopub.status.busy": "2021-08-11T00:10:13.104268Z",
     "iopub.status.idle": "2021-08-11T00:10:13.121386Z",
     "shell.execute_reply": "2021-08-11T00:10:13.120426Z",
     "shell.execute_reply.started": "2021-08-11T00:10:13.104889Z"
    },
    "jupyter": {
     "outputs_hidden": false
    }
   },
   "outputs": [
    {
     "data": {
      "text/html": [
       "<div>\n",
       "<style scoped>\n",
       "    .dataframe tbody tr th:only-of-type {\n",
       "        vertical-align: middle;\n",
       "    }\n",
       "\n",
       "    .dataframe tbody tr th {\n",
       "        vertical-align: top;\n",
       "    }\n",
       "\n",
       "    .dataframe thead th {\n",
       "        text-align: right;\n",
       "    }\n",
       "</style>\n",
       "<table border=\"1\" class=\"dataframe\">\n",
       "  <thead>\n",
       "    <tr style=\"text-align: right;\">\n",
       "      <th></th>\n",
       "      <th>Modelling Algorithm</th>\n",
       "      <th>Accuracy</th>\n",
       "    </tr>\n",
       "  </thead>\n",
       "  <tbody>\n",
       "    <tr>\n",
       "      <th>0</th>\n",
       "      <td>LinearSVM</td>\n",
       "      <td>0.676471</td>\n",
       "    </tr>\n",
       "    <tr>\n",
       "      <th>1</th>\n",
       "      <td>KNearestNeighbors</td>\n",
       "      <td>0.569853</td>\n",
       "    </tr>\n",
       "    <tr>\n",
       "      <th>2</th>\n",
       "      <td>RandomForestClassifier</td>\n",
       "      <td>0.812500</td>\n",
       "    </tr>\n",
       "    <tr>\n",
       "      <th>3</th>\n",
       "      <td>DecisionTree</td>\n",
       "      <td>0.772059</td>\n",
       "    </tr>\n",
       "    <tr>\n",
       "      <th>4</th>\n",
       "      <td>GradientBoostingClassifier</td>\n",
       "      <td>0.768382</td>\n",
       "    </tr>\n",
       "    <tr>\n",
       "      <th>5</th>\n",
       "      <td>GaussianNB</td>\n",
       "      <td>0.522059</td>\n",
       "    </tr>\n",
       "  </tbody>\n",
       "</table>\n",
       "</div>"
      ],
      "text/plain": [
       "          Modelling Algorithm  Accuracy\n",
       "0                   LinearSVM  0.676471\n",
       "1           KNearestNeighbors  0.569853\n",
       "2      RandomForestClassifier  0.812500\n",
       "3                DecisionTree  0.772059\n",
       "4  GradientBoostingClassifier  0.768382\n",
       "5                  GaussianNB  0.522059"
      ]
     },
     "execution_count": 72,
     "metadata": {},
     "output_type": "execute_result"
    }
   ],
   "source": [
    "models_df"
   ]
  },
  {
   "cell_type": "markdown",
   "metadata": {
    "_cell_guid": "3921fe61-78b5-4c2f-a790-bf6c32ed9913",
    "_uuid": "f275790d-694c-4b26-ab2a-d93808cbfdc3"
   },
   "source": [
    "# Hyperparameter Tuning - RandomForestClassifier"
   ]
  },
  {
   "cell_type": "markdown",
   "metadata": {},
   "source": [
    "![](https://www.freecodecamp.org/news/content/images/2020/08/how-random-forest-classifier-work.PNG)"
   ]
  },
  {
   "cell_type": "code",
   "execution_count": 73,
   "metadata": {
    "_cell_guid": "07326d51-44cc-4b32-862a-a0f98699772d",
    "_uuid": "c837730e-8690-49ea-bd9b-25c12b1c3695",
    "execution": {
     "iopub.execute_input": "2021-08-10T23:34:11.430975Z",
     "iopub.status.busy": "2021-08-10T23:34:11.430602Z",
     "iopub.status.idle": "2021-08-10T23:34:11.440502Z",
     "shell.execute_reply": "2021-08-10T23:34:11.438491Z",
     "shell.execute_reply.started": "2021-08-10T23:34:11.430941Z"
    },
    "jupyter": {
     "outputs_hidden": false
    }
   },
   "outputs": [
    {
     "name": "stdout",
     "output_type": "stream",
     "text": [
      "Parameters currently in use:\n",
      "\n",
      "{'bootstrap': True,\n",
      " 'ccp_alpha': 0.0,\n",
      " 'class_weight': None,\n",
      " 'criterion': 'gini',\n",
      " 'max_depth': None,\n",
      " 'max_features': 'auto',\n",
      " 'max_leaf_nodes': None,\n",
      " 'max_samples': None,\n",
      " 'min_impurity_decrease': 0.0,\n",
      " 'min_impurity_split': None,\n",
      " 'min_samples_leaf': 1,\n",
      " 'min_samples_split': 2,\n",
      " 'min_weight_fraction_leaf': 0.0,\n",
      " 'n_estimators': 100,\n",
      " 'n_jobs': None,\n",
      " 'oob_score': False,\n",
      " 'random_state': 42,\n",
      " 'verbose': 0,\n",
      " 'warm_start': False}\n"
     ]
    }
   ],
   "source": [
    "from sklearn.ensemble import RandomForestClassifier\n",
    "\n",
    "rf = RandomForestClassifier(random_state = 42)\n",
    "\n",
    "from pprint import pprint\n",
    "\n",
    "# Look at parameters used by our current forest\n",
    "print('Parameters currently in use:\\n')\n",
    "pprint(rf.get_params())"
   ]
  },
  {
   "cell_type": "code",
   "execution_count": 74,
   "metadata": {
    "_cell_guid": "991aabd2-e2cc-4463-8980-9e3308479d8e",
    "_uuid": "cc7bf0f6-0d12-4ecc-b717-f695dbe04576",
    "execution": {
     "iopub.execute_input": "2021-08-10T23:34:12.234545Z",
     "iopub.status.busy": "2021-08-10T23:34:12.234179Z",
     "iopub.status.idle": "2021-08-10T23:34:12.244490Z",
     "shell.execute_reply": "2021-08-10T23:34:12.243573Z",
     "shell.execute_reply.started": "2021-08-10T23:34:12.234511Z"
    },
    "jupyter": {
     "outputs_hidden": false
    }
   },
   "outputs": [
    {
     "name": "stdout",
     "output_type": "stream",
     "text": [
      "{'bootstrap': [True, False],\n",
      " 'max_depth': [10, 20, 30, 40, 50, 60, 70, 80, 90, 100, 110, None],\n",
      " 'max_features': ['auto', 'sqrt'],\n",
      " 'min_samples_leaf': [1, 2, 4],\n",
      " 'min_samples_split': [2, 5, 10],\n",
      " 'n_estimators': [200, 400, 600, 800, 1000, 1200, 1400, 1600, 1800, 2000]}\n"
     ]
    }
   ],
   "source": [
    "from sklearn.model_selection import RandomizedSearchCV\n",
    "\n",
    "# Number of trees in random forest\n",
    "n_estimators = [int(x) for x in np.linspace(start = 200, stop = 2000, num = 10)]\n",
    "\n",
    "# Number of features to consider at every split\n",
    "max_features = ['auto', 'sqrt']\n",
    "\n",
    "# Maximum number of levels in tree\n",
    "max_depth = [int(x) for x in np.linspace(10, 110, num = 11)]\n",
    "max_depth.append(None)\n",
    "\n",
    "# Minimum number of samples required to split a node\n",
    "min_samples_split = [2, 5, 10]\n",
    "\n",
    "# Minimum number of samples required at each leaf node\n",
    "min_samples_leaf = [1, 2, 4]\n",
    "\n",
    "# Method of selecting samples for training each tree\n",
    "bootstrap = [True, False]\n",
    "\n",
    "# Create the random grid\n",
    "random_grid = {'n_estimators': n_estimators,\n",
    "               'max_features': max_features,\n",
    "               'max_depth': max_depth,\n",
    "               'min_samples_split': min_samples_split,\n",
    "               'min_samples_leaf': min_samples_leaf,\n",
    "               'bootstrap': bootstrap}\n",
    "\n",
    "pprint(random_grid)"
   ]
  },
  {
   "cell_type": "markdown",
   "metadata": {},
   "source": [
    "**Random Grid Search**\n",
    "\n",
    "It is a technique where random combinations of the hyperparameters are used to find the best solution for the built model."
   ]
  },
  {
   "cell_type": "code",
   "execution_count": 75,
   "metadata": {
    "_cell_guid": "99edbcfa-6c67-4d67-9dc0-fdf2742e6a9c",
    "_uuid": "c495e027-975b-42b1-927a-4fe0a3d431c8",
    "execution": {
     "iopub.execute_input": "2021-08-10T23:34:18.246533Z",
     "iopub.status.busy": "2021-08-10T23:34:18.246158Z",
     "iopub.status.idle": "2021-08-10T23:38:44.449835Z",
     "shell.execute_reply": "2021-08-10T23:38:44.448643Z",
     "shell.execute_reply.started": "2021-08-10T23:34:18.246495Z"
    },
    "jupyter": {
     "outputs_hidden": false
    }
   },
   "outputs": [
    {
     "name": "stdout",
     "output_type": "stream",
     "text": [
      "Fitting 4 folds for each of 40 candidates, totalling 160 fits\n"
     ]
    },
    {
     "name": "stderr",
     "output_type": "stream",
     "text": [
      "[Parallel(n_jobs=-1)]: Using backend LokyBackend with 6 concurrent workers.\n",
      "[Parallel(n_jobs=-1)]: Done  38 tasks      | elapsed:   47.2s\n",
      "[Parallel(n_jobs=-1)]: Done 160 out of 160 | elapsed:  2.7min finished\n"
     ]
    },
    {
     "data": {
      "text/plain": [
       "RandomizedSearchCV(cv=4, estimator=RandomForestClassifier(), n_iter=40,\n",
       "                   n_jobs=-1,\n",
       "                   param_distributions={'bootstrap': [True, False],\n",
       "                                        'max_depth': [10, 20, 30, 40, 50, 60,\n",
       "                                                      70, 80, 90, 100, 110,\n",
       "                                                      None],\n",
       "                                        'max_features': ['auto', 'sqrt'],\n",
       "                                        'min_samples_leaf': [1, 2, 4],\n",
       "                                        'min_samples_split': [2, 5, 10],\n",
       "                                        'n_estimators': [200, 400, 600, 800,\n",
       "                                                         1000, 1200, 1400, 1600,\n",
       "                                                         1800, 2000]},\n",
       "                   random_state=2, verbose=1)"
      ]
     },
     "execution_count": 75,
     "metadata": {},
     "output_type": "execute_result"
    }
   ],
   "source": [
    "# Use the random grid to search for best hyperparameters\n",
    "rf = RandomForestClassifier()\n",
    "\n",
    "# search across 30 different combinations, and use all available cores\n",
    "rf_random = RandomizedSearchCV(estimator = rf, param_distributions = random_grid, n_iter = 40, cv = 4, verbose=1, random_state=2, n_jobs = -1)\n",
    "\n",
    "rf_random.fit(X_train, y_train)"
   ]
  },
  {
   "cell_type": "code",
   "execution_count": 76,
   "metadata": {
    "_cell_guid": "f07b44a9-b672-4a8f-b635-fe7556cf90b3",
    "_uuid": "fb7e77e0-311e-4930-bc5b-0b21dcb4ad16",
    "execution": {
     "iopub.execute_input": "2021-08-10T23:39:06.193114Z",
     "iopub.status.busy": "2021-08-10T23:39:06.192589Z",
     "iopub.status.idle": "2021-08-10T23:39:06.199289Z",
     "shell.execute_reply": "2021-08-10T23:39:06.198178Z",
     "shell.execute_reply.started": "2021-08-10T23:39:06.193078Z"
    },
    "jupyter": {
     "outputs_hidden": false
    }
   },
   "outputs": [
    {
     "data": {
      "text/plain": [
       "{'n_estimators': 1600,\n",
       " 'min_samples_split': 2,\n",
       " 'min_samples_leaf': 1,\n",
       " 'max_features': 'auto',\n",
       " 'max_depth': None,\n",
       " 'bootstrap': False}"
      ]
     },
     "execution_count": 76,
     "metadata": {},
     "output_type": "execute_result"
    }
   ],
   "source": [
    "rf_random.best_params_"
   ]
  },
  {
   "cell_type": "code",
   "execution_count": 77,
   "metadata": {
    "_cell_guid": "38792c24-ad05-4345-b5fa-4d5a503a4773",
    "_uuid": "daa24637-a216-4b56-89c8-97293c9881da",
    "execution": {
     "iopub.execute_input": "2021-08-10T23:39:09.962501Z",
     "iopub.status.busy": "2021-08-10T23:39:09.961986Z",
     "iopub.status.idle": "2021-08-10T23:39:19.003542Z",
     "shell.execute_reply": "2021-08-10T23:39:19.002678Z",
     "shell.execute_reply.started": "2021-08-10T23:39:09.962471Z"
    },
    "jupyter": {
     "outputs_hidden": false
    }
   },
   "outputs": [
    {
     "data": {
      "text/plain": [
       "0.8308823529411765"
      ]
     },
     "execution_count": 77,
     "metadata": {},
     "output_type": "execute_result"
    }
   ],
   "source": [
    "best_random = rf_random.best_estimator_\n",
    "\n",
    "best_random.fit(X_train, y_train)\n",
    "\n",
    "predictions = best_random.predict(X_test)\n",
    "\n",
    "accuracy_score(predictions, y_test)"
   ]
  },
  {
   "cell_type": "code",
   "execution_count": 126,
   "metadata": {},
   "outputs": [
    {
     "data": {
      "text/plain": [
       "<AxesSubplot:title={'center':'Feature Importance'}>"
      ]
     },
     "execution_count": 126,
     "metadata": {},
     "output_type": "execute_result"
    },
    {
     "data": {
      "image/png": "[encoded data removed]",
      "text/plain": [
       "<Figure size 576x288 with 1 Axes>"
      ]
     },
     "metadata": {
      "needs_background": "light"
     },
     "output_type": "display_data"
    }
   ],
   "source": [
    "(pd.Series(best_random.feature_importances_, index=X.columns)\n",
    "   .plot(kind='barh', figsize=(8,4), title= 'Feature Importance'))  "
   ]
  },
  {
   "cell_type": "code",
   "execution_count": 127,
   "metadata": {
    "_cell_guid": "521b82ec-bb11-496b-ba7a-c30c964ab13e",
    "_uuid": "59ea59eb-05ef-42ea-9f37-93d37a6fe6f2",
    "jupyter": {
     "outputs_hidden": false
    }
   },
   "outputs": [
    {
     "data": {
      "text/html": [
       "<div>\n",
       "<style scoped>\n",
       "    .dataframe tbody tr th:only-of-type {\n",
       "        vertical-align: middle;\n",
       "    }\n",
       "\n",
       "    .dataframe tbody tr th {\n",
       "        vertical-align: top;\n",
       "    }\n",
       "\n",
       "    .dataframe thead th {\n",
       "        text-align: right;\n",
       "    }\n",
       "</style>\n",
       "<table border=\"1\" class=\"dataframe\">\n",
       "  <thead>\n",
       "    <tr style=\"text-align: right;\">\n",
       "      <th></th>\n",
       "      <th>fixed acidity</th>\n",
       "      <th>volatile acidity</th>\n",
       "      <th>citric acid</th>\n",
       "      <th>residual sugar</th>\n",
       "      <th>chlorides</th>\n",
       "      <th>free sulfur dioxide</th>\n",
       "      <th>total sulfur dioxide</th>\n",
       "      <th>density</th>\n",
       "      <th>pH</th>\n",
       "      <th>sulphates</th>\n",
       "      <th>alcohol</th>\n",
       "    </tr>\n",
       "  </thead>\n",
       "  <tbody>\n",
       "  </tbody>\n",
       "</table>\n",
       "</div>"
      ],
      "text/plain": [
       "Empty DataFrame\n",
       "Columns: [fixed acidity, volatile acidity, citric acid, residual sugar, chlorides, free sulfur dioxide, total sulfur dioxide, density, pH, sulphates, alcohol]\n",
       "Index: []"
      ]
     },
     "execution_count": 127,
     "metadata": {},
     "output_type": "execute_result"
    }
   ],
   "source": [
    "df.iloc[1:0,:-1]"
   ]
  },
  {
   "cell_type": "code",
   "execution_count": 118,
   "metadata": {},
   "outputs": [
    {
     "data": {
      "text/plain": [
       "array([[-2.7705211 ,  0.6587223 , -1.18861732,  0.35256307, 18.4744841 ,\n",
       "        -1.23458567, -0.98291216,  1.76158894, -5.22512888, -0.34410037,\n",
       "        82.80520952]])"
      ]
     },
     "execution_count": 118,
     "metadata": {},
     "output_type": "execute_result"
    }
   ],
   "source": [
    "val = sc.transform([[3.5, 0.65, 0.04, 3.0, 1,3, 14 , 1 ,2.5, 0.6, 10]])\n",
    "val"
   ]
  },
  {
   "cell_type": "code",
   "execution_count": 119,
   "metadata": {},
   "outputs": [
    {
     "data": {
      "text/plain": [
       "array(['2'], dtype=object)"
      ]
     },
     "execution_count": 119,
     "metadata": {},
     "output_type": "execute_result"
    }
   ],
   "source": [
    "best_random.predict(val)\n"
   ]
  },
  {
   "cell_type": "code",
   "execution_count": null,
   "metadata": {},
   "outputs": [],
   "source": []
  }
 ],
 "metadata": {
  "kernelspec": {
   "display_name": "Python 3",
   "language": "python",
   "name": "python3"
  },
  "language_info": {
   "codemirror_mode": {
    "name": "ipython",
    "version": 3
   },
   "file_extension": ".py",
   "mimetype": "text/x-python",
   "name": "python",
   "nbconvert_exporter": "python",
   "pygments_lexer": "ipython3",
   "version": "3.8.8"
  }
 },
 "nbformat": 4,
 "nbformat_minor": 4
}
